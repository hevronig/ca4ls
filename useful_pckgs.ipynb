{
 "cells": [
  {
   "cell_type": "markdown",
   "metadata": {},
   "source": [
    "# Agenda\n",
    "\n",
    "### Part One\n",
    "- Interactive platforms (IPython, Jupter notebook) and reproducibility\n",
    "\n",
    "### Part Two\n",
    "- Brief introduction to useful Python packages (for science, engineering, business and more)\n",
    "- A \"toy-study\" demonstrating some basic data wrangling and visualization\n",
    "\n",
    "### Part Three\n",
    "- Example from my project\n",
    "- Real (outer) world example\n",
    "- Resources"
   ]
  },
  {
   "cell_type": "markdown",
   "metadata": {},
   "source": [
    "---"
   ]
  },
  {
   "cell_type": "code",
   "execution_count": null,
   "metadata": {
    "collapsed": false
   },
   "outputs": [],
   "source": [
    "print('Hello ca4ls class of 2016!')"
   ]
  },
  {
   "cell_type": "markdown",
   "metadata": {},
   "source": [
    "# Pure Python"
   ]
  },
  {
   "cell_type": "code",
   "execution_count": null,
   "metadata": {
    "collapsed": true
   },
   "outputs": [],
   "source": [
    "mylist = [1,2,3]"
   ]
  },
  {
   "cell_type": "code",
   "execution_count": null,
   "metadata": {
    "collapsed": false
   },
   "outputs": [],
   "source": [
    "mylist"
   ]
  },
  {
   "cell_type": "code",
   "execution_count": null,
   "metadata": {
    "collapsed": false
   },
   "outputs": [],
   "source": [
    "mylist * 3"
   ]
  },
  {
   "cell_type": "code",
   "execution_count": null,
   "metadata": {
    "collapsed": true
   },
   "outputs": [],
   "source": [
    "import random"
   ]
  },
  {
   "cell_type": "code",
   "execution_count": null,
   "metadata": {
    "collapsed": false
   },
   "outputs": [],
   "source": [
    "n = 10\n",
    "rows = 5\n",
    "cols = 5\n",
    "\n",
    "list_of_lists = [random.sample(range(n), cols) for i in range(rows)] # list comprehension\n",
    "list_of_lists"
   ]
  },
  {
   "cell_type": "code",
   "execution_count": null,
   "metadata": {
    "collapsed": false
   },
   "outputs": [],
   "source": [
    "type(list_of_lists)"
   ]
  },
  {
   "cell_type": "markdown",
   "metadata": {},
   "source": [
    "#### Indexing list"
   ]
  },
  {
   "cell_type": "code",
   "execution_count": null,
   "metadata": {
    "collapsed": false
   },
   "outputs": [],
   "source": [
    "list_of_lists[1][1]"
   ]
  },
  {
   "cell_type": "markdown",
   "metadata": {},
   "source": [
    "# NumPy\n",
    "\n",
    ">**NumPy** is the fundamental library for scientific computing in Python. It contains list like objects that work like arrays, matrices, and data tables. This is how scientists typically expect data to behave. Numpy also provides linear algebra, Fourier transforms, random number generation, and tools for integrating C/C++ and Fortran code."
   ]
  },
  {
   "cell_type": "code",
   "execution_count": null,
   "metadata": {
    "collapsed": false
   },
   "outputs": [],
   "source": [
    "import numpy as np\n",
    "print(\"NumPy\", np.__version__)"
   ]
  },
  {
   "cell_type": "code",
   "execution_count": null,
   "metadata": {
    "collapsed": false
   },
   "outputs": [],
   "source": [
    "myarray = np.array([[1, 2, 3], [4, 5, 6], [7, 8, 9]])"
   ]
  },
  {
   "cell_type": "code",
   "execution_count": null,
   "metadata": {
    "collapsed": false
   },
   "outputs": [],
   "source": [
    "type(myarray)"
   ]
  },
  {
   "cell_type": "code",
   "execution_count": null,
   "metadata": {
    "collapsed": false
   },
   "outputs": [],
   "source": [
    "myarray.shape"
   ]
  },
  {
   "cell_type": "code",
   "execution_count": null,
   "metadata": {
    "collapsed": false
   },
   "outputs": [],
   "source": [
    "myarray"
   ]
  },
  {
   "cell_type": "markdown",
   "metadata": {},
   "source": [
    "#### Indexing an array"
   ]
  },
  {
   "cell_type": "code",
   "execution_count": null,
   "metadata": {
    "collapsed": false
   },
   "outputs": [],
   "source": [
    "myarray[1, 1]"
   ]
  },
  {
   "cell_type": "markdown",
   "metadata": {},
   "source": [
    "#### Slicing an array"
   ]
  },
  {
   "cell_type": "code",
   "execution_count": null,
   "metadata": {
    "collapsed": false
   },
   "outputs": [],
   "source": [
    "myarray[:,0]"
   ]
  },
  {
   "cell_type": "code",
   "execution_count": null,
   "metadata": {
    "collapsed": false
   },
   "outputs": [],
   "source": [
    "myarray[1,:]"
   ]
  },
  {
   "cell_type": "code",
   "execution_count": null,
   "metadata": {
    "collapsed": false
   },
   "outputs": [],
   "source": [
    "my_random_array = np.random.randint(0, 10, size=(5,5))"
   ]
  },
  {
   "cell_type": "code",
   "execution_count": null,
   "metadata": {
    "collapsed": false
   },
   "outputs": [],
   "source": [
    "my_random_array"
   ]
  },
  {
   "cell_type": "code",
   "execution_count": null,
   "metadata": {
    "collapsed": false
   },
   "outputs": [],
   "source": [
    "my_random_array.transpose()"
   ]
  },
  {
   "cell_type": "code",
   "execution_count": null,
   "metadata": {
    "collapsed": true
   },
   "outputs": [],
   "source": [
    "my_random_array."
   ]
  },
  {
   "cell_type": "markdown",
   "metadata": {},
   "source": [
    "### Math\n",
    "\n",
    "Math on arrays is vectorized"
   ]
  },
  {
   "cell_type": "code",
   "execution_count": null,
   "metadata": {
    "collapsed": false
   },
   "outputs": [],
   "source": [
    "my_random_array * 3"
   ]
  },
  {
   "cell_type": "code",
   "execution_count": null,
   "metadata": {
    "collapsed": false
   },
   "outputs": [],
   "source": [
    "print('mean:', my_random_array.mean(), 'std:', my_random_array.std())"
   ]
  },
  {
   "cell_type": "code",
   "execution_count": null,
   "metadata": {
    "collapsed": false
   },
   "outputs": [],
   "source": [
    "y = np.random.standard_normal(1000) # mean=0, stdev=1\n",
    "y[:10]"
   ]
  },
  {
   "cell_type": "markdown",
   "metadata": {},
   "source": [
    "### Operation efficiency"
   ]
  },
  {
   "cell_type": "code",
   "execution_count": null,
   "metadata": {
    "collapsed": false,
    "scrolled": true
   },
   "outputs": [],
   "source": [
    "import time\n",
    "\n",
    "t0 = time.time()\n",
    "for i in range(1000):\n",
    "    sum(y)\n",
    "print(time.time()-t0, 'sec')"
   ]
  },
  {
   "cell_type": "code",
   "execution_count": null,
   "metadata": {
    "collapsed": false
   },
   "outputs": [],
   "source": [
    "t0 = time.time()\n",
    "for i in range(1000):\n",
    "    np.sum(y)\n",
    "print(time.time()-t0, 'sec')"
   ]
  },
  {
   "cell_type": "code",
   "execution_count": null,
   "metadata": {
    "collapsed": false
   },
   "outputs": [],
   "source": [
    "# try again...?\n",
    "y = list(y)\n",
    "type(y)"
   ]
  },
  {
   "cell_type": "markdown",
   "metadata": {},
   "source": [
    "# Pandas\n",
    "\n",
    ">**pandas** is a Python package providing fast, flexible, and expressive data structures designed to make working with “relational” or “labeled” data both easy and intuitive. It aims to be the fundamental high-level building block for doing practical, real world data analysis in Python."
   ]
  },
  {
   "cell_type": "code",
   "execution_count": null,
   "metadata": {
    "collapsed": false
   },
   "outputs": [],
   "source": [
    "import pandas as pd\n",
    "print(\"Pandas\", pd.__version__)"
   ]
  },
  {
   "cell_type": "code",
   "execution_count": null,
   "metadata": {
    "collapsed": false
   },
   "outputs": [],
   "source": [
    "my_dataframe = pd.DataFrame(my_random_array, columns=['A','B','C','D','E'])\n",
    "my_dataframe"
   ]
  },
  {
   "cell_type": "code",
   "execution_count": null,
   "metadata": {
    "collapsed": false
   },
   "outputs": [],
   "source": [
    "type(my_dataframe)"
   ]
  },
  {
   "cell_type": "code",
   "execution_count": null,
   "metadata": {
    "collapsed": false
   },
   "outputs": [],
   "source": [
    "my_dataframe.shape"
   ]
  },
  {
   "cell_type": "markdown",
   "metadata": {},
   "source": [
    "#### Selecting columns"
   ]
  },
  {
   "cell_type": "code",
   "execution_count": null,
   "metadata": {
    "collapsed": false
   },
   "outputs": [],
   "source": [
    "my_dataframe['B']"
   ]
  },
  {
   "cell_type": "markdown",
   "metadata": {},
   "source": [
    "#### Selecting rows"
   ]
  },
  {
   "cell_type": "code",
   "execution_count": null,
   "metadata": {
    "collapsed": false
   },
   "outputs": [],
   "source": [
    "my_dataframe.loc[2]"
   ]
  },
  {
   "cell_type": "markdown",
   "metadata": {},
   "source": [
    "#### Slicing DataFrame"
   ]
  },
  {
   "cell_type": "code",
   "execution_count": null,
   "metadata": {
    "collapsed": false
   },
   "outputs": [],
   "source": [
    "df3 = my_dataframe[2:4]"
   ]
  },
  {
   "cell_type": "code",
   "execution_count": null,
   "metadata": {
    "collapsed": false
   },
   "outputs": [],
   "source": [
    "df3"
   ]
  },
  {
   "cell_type": "markdown",
   "metadata": {},
   "source": [
    "# Matplotlib\n",
    "\n",
    ">**matplotlib** is a python 2D plotting library which produces publication quality figures in a variety of hardcopy formats and interactive environments across platforms. matplotlib can be used in python scripts, the python and ipython shell (ala MATLAB or Mathematica), web application servers, and six graphical user interface toolkits."
   ]
  },
  {
   "cell_type": "code",
   "execution_count": null,
   "metadata": {
    "collapsed": false
   },
   "outputs": [],
   "source": [
    "%matplotlib inline\n",
    "import matplotlib.pylab as plt\n",
    "plt.style.use('seaborn-whitegrid')\n",
    "\n",
    "print(plt.style.available)"
   ]
  },
  {
   "cell_type": "code",
   "execution_count": null,
   "metadata": {
    "collapsed": false
   },
   "outputs": [],
   "source": [
    "# randn = random floats sampled from a univariate \"normal\" (Gaussian)\n",
    "# distribution of mean 0 and variance 1\n",
    "\n",
    "df = pd.DataFrame(np.random.randn(100, 5),\n",
    "                columns=['a', 'b', 'c', 'd', 'e']) \n",
    "df.head(10)"
   ]
  },
  {
   "cell_type": "code",
   "execution_count": null,
   "metadata": {
    "collapsed": false
   },
   "outputs": [],
   "source": [
    "plt.figure(figsize=(8,8))\n",
    "plt.scatter(x=df['a'], y=df['b']);"
   ]
  },
  {
   "cell_type": "code",
   "execution_count": null,
   "metadata": {
    "collapsed": false
   },
   "outputs": [],
   "source": [
    "plt.figure(figsize=(8,8))\n",
    "plt.scatter(x=df['a'], y=df['b'], s=df['c']*200); # s = size"
   ]
  },
  {
   "cell_type": "code",
   "execution_count": null,
   "metadata": {
    "collapsed": false
   },
   "outputs": [],
   "source": [
    "plt.figure(figsize=(8,8))\n",
    "plt.scatter(x=df['a'], y=df['b'], s=df['c']*200, \n",
    "            c=np.array(df['c']*200), # c = color\n",
    "            cmap=plt.cm.coolwarm); # cmap = color map"
   ]
  },
  {
   "cell_type": "code",
   "execution_count": null,
   "metadata": {
    "collapsed": false
   },
   "outputs": [],
   "source": [
    "dist = pd.Series(df['a'])\n",
    "dist.plot.kde(figsize=(8,8)); # Density Estimate plot"
   ]
  },
  {
   "cell_type": "code",
   "execution_count": null,
   "metadata": {
    "collapsed": false
   },
   "outputs": [],
   "source": [
    "import seaborn as sns\n",
    "sns.set(style=\"whitegrid\") #, color_codes=True)"
   ]
  },
  {
   "cell_type": "markdown",
   "metadata": {},
   "source": [
    "# Seaborn\n",
    ">**Seaborn** is a Python visualization library based on matplotlib. It provides a high-level interface for drawing attractive statistical graphics."
   ]
  },
  {
   "cell_type": "code",
   "execution_count": null,
   "metadata": {
    "collapsed": false
   },
   "outputs": [],
   "source": [
    "sns.boxplot(data=df);"
   ]
  },
  {
   "cell_type": "code",
   "execution_count": null,
   "metadata": {
    "collapsed": false
   },
   "outputs": [],
   "source": [
    "sns.stripplot(data=df);"
   ]
  },
  {
   "cell_type": "code",
   "execution_count": null,
   "metadata": {
    "collapsed": false
   },
   "outputs": [],
   "source": [
    "sns.violinplot(data=df);"
   ]
  },
  {
   "cell_type": "markdown",
   "metadata": {},
   "source": [
    "---"
   ]
  },
  {
   "cell_type": "markdown",
   "metadata": {},
   "source": [
    "## \"Toy study\"\n",
    "\n",
    "1. **Are daily changes in surface water temperatue in the golf of Eilat behave the same in daytime and nighttime?**\n",
    "2. **Can changes in surface water temperature in the gulf of Eilat, be related to changes in the air temperature?**\n",
    "\n",
    "http://www.meteo-tech.co.il/eilat-yam/eilat_download_en.asp"
   ]
  },
  {
   "cell_type": "code",
   "execution_count": null,
   "metadata": {
    "collapsed": true
   },
   "outputs": [],
   "source": [
    "test = pd.read_csv('./iui201508.txt')"
   ]
  },
  {
   "cell_type": "code",
   "execution_count": null,
   "metadata": {
    "collapsed": false
   },
   "outputs": [],
   "source": [
    "test.head()"
   ]
  },
  {
   "cell_type": "code",
   "execution_count": null,
   "metadata": {
    "collapsed": false
   },
   "outputs": [],
   "source": [
    "names = ['Date', 'Time', 'Temp (dC 2m)', 'Humidity (percentage)', 'Absolute Pressure (g/m^3)', \n",
    "         'Barometric (mb)', 'Solar Radiation (W/m^2)', 'Wind Dir (deg)', 'Wind Speed (m/s)', \n",
    "         'Wind Gusts (m/s)', 'Sea Level (cm)', 'Water Temp (dC)', 'PAR (mmol/m^2/sec)', \n",
    "         'UV (mmol/m²/sec)']\n",
    "\n",
    "data = pd.read_csv('./iui201508.txt', sep=',', skiprows=4, names=names)"
   ]
  },
  {
   "cell_type": "code",
   "execution_count": null,
   "metadata": {
    "collapsed": false
   },
   "outputs": [],
   "source": [
    "type(data)"
   ]
  },
  {
   "cell_type": "code",
   "execution_count": null,
   "metadata": {
    "collapsed": false
   },
   "outputs": [],
   "source": [
    "data.shape"
   ]
  },
  {
   "cell_type": "code",
   "execution_count": null,
   "metadata": {
    "collapsed": false
   },
   "outputs": [],
   "source": [
    "data.head()"
   ]
  },
  {
   "cell_type": "code",
   "execution_count": null,
   "metadata": {
    "collapsed": false
   },
   "outputs": [],
   "source": [
    "data.describe()"
   ]
  },
  {
   "cell_type": "code",
   "execution_count": null,
   "metadata": {
    "collapsed": false
   },
   "outputs": [],
   "source": [
    "len(data.Date.unique())"
   ]
  },
  {
   "cell_type": "markdown",
   "metadata": {},
   "source": [
    "#### GroupBy\n",
    ">Group series using mapper (dict or key function, apply given function to group, return result as series) or by a series of columns.  "
   ]
  },
  {
   "cell_type": "code",
   "execution_count": null,
   "metadata": {
    "collapsed": false
   },
   "outputs": [],
   "source": [
    "data.groupby('Time').describe().head(16)"
   ]
  },
  {
   "cell_type": "code",
   "execution_count": null,
   "metadata": {
    "collapsed": false
   },
   "outputs": [],
   "source": [
    "pm = (data.loc[data['Time'] == '15:00']).reset_index(drop=True)\n",
    "pm.head()"
   ]
  },
  {
   "cell_type": "code",
   "execution_count": null,
   "metadata": {
    "collapsed": false
   },
   "outputs": [],
   "source": [
    "am = (data.loc[data['Time'] == '03:00']).reset_index(drop=True)\n",
    "am.head()"
   ]
  },
  {
   "cell_type": "code",
   "execution_count": null,
   "metadata": {
    "collapsed": false,
    "scrolled": false
   },
   "outputs": [],
   "source": [
    "pm['Water Temp (dC)'].plot(figsize=(8,6), legend=True)\n",
    "am['Water Temp (dC)'].plot(secondary_y=False, style='g--', legend=True);"
   ]
  },
  {
   "cell_type": "code",
   "execution_count": null,
   "metadata": {
    "collapsed": false
   },
   "outputs": [],
   "source": [
    "pearson = pm['Water Temp (dC)'].corr(am['Water Temp (dC)']) # correlation coefficient\n",
    "Rsquared = pearson**2\n",
    "\n",
    "print('Pearson:', pearson,'\\n'\n",
    "      'R^2:', Rsquared)"
   ]
  },
  {
   "cell_type": "code",
   "execution_count": null,
   "metadata": {
    "collapsed": false
   },
   "outputs": [],
   "source": [
    "pm['Water Temp (dC)'].plot(figsize=(8,6), legend=True)\n",
    "pm['Temp (dC 2m)'].plot(secondary_y=False, style='b--', legend=True);"
   ]
  },
  {
   "cell_type": "code",
   "execution_count": null,
   "metadata": {
    "collapsed": false
   },
   "outputs": [],
   "source": [
    "pearson = pm['Water Temp (dC)'].corr(am['Temp (dC 2m)']) # correlation coefficient\n",
    "Rsquared = pearson**2\n",
    "\n",
    "print('Pearson:', pearson,'\\n'\n",
    "      'R^2:', Rsquared)"
   ]
  },
  {
   "cell_type": "code",
   "execution_count": null,
   "metadata": {
    "collapsed": false
   },
   "outputs": [],
   "source": [
    "g = sns.PairGrid(pm, vars=['Temp (dC 2m)', 'Humidity (percentage)', 'Absolute Pressure (g/m^3)', 'Water Temp (dC)'])\n",
    "g = g.map_diag(plt.hist, edgecolor=\"w\")\n",
    "g = g.map_offdiag(plt.scatter, edgecolor=\"w\", s=40)"
   ]
  },
  {
   "cell_type": "markdown",
   "metadata": {},
   "source": [
    "---"
   ]
  },
  {
   "cell_type": "markdown",
   "metadata": {},
   "source": [
    "# Example from my project\n",
    "\n",
    "[Teeling _et al._ (2004). Application of tetranucleotide frequencies for the assignment of genomic fragments. _Environmental Microbiology_]"
   ]
  },
  {
   "cell_type": "markdown",
   "metadata": {},
   "source": [
    "#### Tetranucleotide frequency analysis\n",
    ">In order to profile the genomic composition of different genes, each sequence was represented by a tetranucleotide frequency vector (256 features per vector). Frequencies were calculated exclusively from the coding strand using overlapping windows (window location was modified by single-nucleotide steps) and normalized to the sequence length."
   ]
  },
  {
   "cell_type": "markdown",
   "metadata": {},
   "source": [
    "#### Itertools \n",
    ">**Itertols** provides functions creating iterators for efficient looping"
   ]
  },
  {
   "cell_type": "code",
   "execution_count": null,
   "metadata": {
    "collapsed": true
   },
   "outputs": [],
   "source": [
    "import itertools"
   ]
  },
  {
   "cell_type": "code",
   "execution_count": null,
   "metadata": {
    "collapsed": false
   },
   "outputs": [],
   "source": [
    "kmers = list(itertools.product('ACGT', repeat=2))"
   ]
  },
  {
   "cell_type": "code",
   "execution_count": null,
   "metadata": {
    "collapsed": false
   },
   "outputs": [],
   "source": [
    "for kmer in kmers:\n",
    "    print(kmer)"
   ]
  },
  {
   "cell_type": "code",
   "execution_count": null,
   "metadata": {
    "collapsed": false
   },
   "outputs": [],
   "source": [
    "all_kmers = [''.join(x) for x in kmers] # list comprehension\n",
    "all_kmers[:10]"
   ]
  },
  {
   "cell_type": "code",
   "execution_count": null,
   "metadata": {
    "collapsed": false
   },
   "outputs": [],
   "source": [
    "kmer_dict = {kmer: 0 for kmer in all_kmers} # dictionary comprehension\n",
    "kmer_dict"
   ]
  },
  {
   "cell_type": "code",
   "execution_count": null,
   "metadata": {
    "collapsed": false
   },
   "outputs": [],
   "source": [
    "def kmer_generator(alphabet, k):\n",
    "    kmers = itertools.product(alphabet, repeat=k)\n",
    "    kmer_list = [''.join(x) for x in kmers] # list comprehension\n",
    "    kmer_dict = {kmer: 0 for kmer in kmer_list} # dictionary comprehension\n",
    "    return kmer_dict"
   ]
  },
  {
   "cell_type": "code",
   "execution_count": null,
   "metadata": {
    "collapsed": true
   },
   "outputs": [],
   "source": [
    "def kmer_frequency(seq, alphabet, k): \n",
    "    kmer_frq = kmer_generator(alphabet, k)\n",
    "    for i in range(len(seq)-k):\n",
    "        temp_kmer = seq[i:i+k] # \"sliding window\"\n",
    "        if not temp_kmer in kmer_frq.keys():\n",
    "            None\n",
    "        else:\n",
    "            kmer_frq[temp_kmer] += 1\n",
    "    return kmer_frq"
   ]
  },
  {
   "cell_type": "code",
   "execution_count": null,
   "metadata": {
    "collapsed": false
   },
   "outputs": [],
   "source": [
    "kmer_frequency('AAAAAACACCAATTCCGGCCTGTCA', 'ACGT', 2)"
   ]
  },
  {
   "cell_type": "code",
   "execution_count": null,
   "metadata": {
    "collapsed": false
   },
   "outputs": [],
   "source": [
    "def normalized_frq(seq, alphabet, k):\n",
    "    norm_frq = kmer_frequency(seq, alphabet, k)\n",
    "    for k,v in norm_frq.items():\n",
    "        norm_frq[k] = v / len(seq)\n",
    "    return norm_frq"
   ]
  },
  {
   "cell_type": "code",
   "execution_count": null,
   "metadata": {
    "collapsed": false
   },
   "outputs": [],
   "source": [
    "normalized_frq('AAAAAACCCCAATTCCGGCCTGTCAATTAACCCGCAAGTCTGGACAGTCA', 'ACGT', 2)"
   ]
  },
  {
   "cell_type": "markdown",
   "metadata": {},
   "source": [
    "#### BioPython \n",
    "> **BioPython** is a freely available Python tools for computational molecular biology and bioinformatics."
   ]
  },
  {
   "cell_type": "code",
   "execution_count": null,
   "metadata": {
    "collapsed": false
   },
   "outputs": [],
   "source": [
    "from Bio import SeqIO\n",
    "from Bio.Seq import Seq"
   ]
  },
  {
   "cell_type": "code",
   "execution_count": null,
   "metadata": {
    "collapsed": false
   },
   "outputs": [],
   "source": [
    "with open('./vpsi_tara_122.fasta', 'r') as ff:\n",
    "    dna = list(SeqIO.parse(ff, 'fasta'))\n",
    "    ff.close()"
   ]
  },
  {
   "cell_type": "code",
   "execution_count": null,
   "metadata": {
    "collapsed": false
   },
   "outputs": [],
   "source": [
    "dna[0]"
   ]
  },
  {
   "cell_type": "code",
   "execution_count": null,
   "metadata": {
    "collapsed": false
   },
   "outputs": [],
   "source": [
    "dna[0].seq"
   ]
  },
  {
   "cell_type": "code",
   "execution_count": null,
   "metadata": {
    "collapsed": false
   },
   "outputs": [],
   "source": [
    "str(dna[0].seq)"
   ]
  },
  {
   "cell_type": "code",
   "execution_count": null,
   "metadata": {
    "collapsed": false
   },
   "outputs": [],
   "source": [
    "dna[0].id"
   ]
  },
  {
   "cell_type": "code",
   "execution_count": null,
   "metadata": {
    "collapsed": true
   },
   "outputs": [],
   "source": [
    "sequence_list = []\n",
    "\n",
    "for i in dna:\n",
    "    sequence_list.append(str(i.seq))"
   ]
  },
  {
   "cell_type": "code",
   "execution_count": null,
   "metadata": {
    "collapsed": false
   },
   "outputs": [],
   "source": [
    "def multi_frq(sequences, alphabet, k):\n",
    "    target_frq = []\n",
    "    for seq in sequences:\n",
    "        res = normalized_frq(seq, alphabet, k)\n",
    "        target_frq.append(list(res.values()))\n",
    "    return target_frq"
   ]
  },
  {
   "cell_type": "markdown",
   "metadata": {},
   "source": [
    "# SciPy\n",
    ">**SciPy** is open-source software for mathematics, science, and engineering."
   ]
  },
  {
   "cell_type": "code",
   "execution_count": null,
   "metadata": {
    "collapsed": true
   },
   "outputs": [],
   "source": [
    "from scipy.spatial.distance import pdist, squareform"
   ]
  },
  {
   "cell_type": "markdown",
   "metadata": {},
   "source": [
    "#### Compute the pairwise distance for all the sequences"
   ]
  },
  {
   "cell_type": "code",
   "execution_count": null,
   "metadata": {
    "collapsed": false
   },
   "outputs": [],
   "source": [
    "def calc_distance(sequences, alphabet, k, dist):\n",
    "    res_list = np.array(multi_frq(sequences, alphabet, k)) # Create multi-sequence list with normalized kmer frequencies\n",
    "    distance = pdist(res_list, dist) # Calculate the pairwise distance between all the sequences\n",
    "    #print(distance.shape)\n",
    "    D = squareform(distance) # Converts a vector-form distance vector to a square-form distance matrix, and vice-versa\n",
    "    #print(D.shape)\n",
    "    return D"
   ]
  },
  {
   "cell_type": "markdown",
   "metadata": {},
   "source": [
    "#### Plot a clustered heatmap\n",
    "\n",
    "#### Kmer = 1 (i.e. 4^1 = 4 possible kmers)"
   ]
  },
  {
   "cell_type": "code",
   "execution_count": null,
   "metadata": {
    "collapsed": false
   },
   "outputs": [],
   "source": [
    "kmer1 = calc_distance(sequence_list, 'ACGT', 1, 'euclidean')\n",
    "sns.clustermap(kmer1, method=\"single\", metric=\"euclidean\", cmap=\"gnuplot\");"
   ]
  },
  {
   "cell_type": "markdown",
   "metadata": {},
   "source": [
    "#### Kmer = 4 (i.e. 4**4 = 256 possible kmers)"
   ]
  },
  {
   "cell_type": "code",
   "execution_count": null,
   "metadata": {
    "collapsed": false
   },
   "outputs": [],
   "source": [
    "kmer4 = calc_distance(sequence_list, 'ACGT', 4, 'euclidean')\n",
    "sns.clustermap(kmer4, method=\"average\", metric=\"euclidean\", cmap=\"gnuplot\");"
   ]
  },
  {
   "cell_type": "code",
   "execution_count": null,
   "metadata": {
    "collapsed": false
   },
   "outputs": [],
   "source": [
    "#kmer6 = calc_distance(sequence_list, 'ACGT', 6, 'euclidean')\n",
    "#sns.clustermap(kmer6, method=\"average\", metric=\"euclidean\", cmap=\"gnuplot\");"
   ]
  },
  {
   "cell_type": "markdown",
   "metadata": {},
   "source": [
    "---"
   ]
  },
  {
   "cell_type": "markdown",
   "metadata": {},
   "source": [
    "# Grouping objects by similarity using k-means\n",
    "### Using the elbow method to find the optimal number of clusters \n",
    "\n",
    ">Code addapted from **Python Machine Learning, Sebastian Raschka (2015)**"
   ]
  },
  {
   "cell_type": "markdown",
   "metadata": {},
   "source": [
    "# scikit-learn\n",
    ">**Machine Learning in Python**\n",
    "> - Simple and efficient tools for data mining and data analysis\n",
    "> - Accessible to everybody, and reusable in various contexts\n",
    "> - Built on NumPy, SciPy, and matplotlib\n",
    "> - Open source, commercially usable - BSD license"
   ]
  },
  {
   "cell_type": "code",
   "execution_count": null,
   "metadata": {
    "collapsed": true
   },
   "outputs": [],
   "source": [
    "from sklearn.cluster import KMeans"
   ]
  },
  {
   "cell_type": "code",
   "execution_count": null,
   "metadata": {
    "collapsed": false
   },
   "outputs": [],
   "source": [
    "res_list = np.array(multi_frq(sequence_list, 'ACGT', 4))\n",
    "res_list.shape"
   ]
  },
  {
   "cell_type": "code",
   "execution_count": null,
   "metadata": {
    "collapsed": false
   },
   "outputs": [],
   "source": [
    "distortions = []\n",
    "for i in range(1, 11):\n",
    "    km = KMeans(n_clusters=i, \n",
    "                init='k-means++', \n",
    "                n_init=10, \n",
    "                max_iter=300, \n",
    "                random_state=0)\n",
    "    km.fit(res_list)\n",
    "    distortions .append(km.inertia_)\n",
    "plt.plot(range(1,11), distortions , marker='o')\n",
    "plt.xlabel('Number of clusters')\n",
    "plt.ylabel('Distortion')\n",
    "plt.tight_layout()\n",
    "#plt.savefig('./figures/elbow.png', dpi=300)\n",
    "plt.show()"
   ]
  },
  {
   "cell_type": "markdown",
   "metadata": {},
   "source": [
    "### GAP Statistic\n",
    ">A Python implementation of the **Gap Statistic from Tibshirani, Walther, Hastie (2001)** to determine the inherent number of clusters in a dataset with k-means clustering"
   ]
  },
  {
   "cell_type": "code",
   "execution_count": null,
   "metadata": {
    "collapsed": false
   },
   "outputs": [],
   "source": [
    "# gap.py\n",
    "# (c) 2013 Mikael Vejdemo-Johansson\n",
    "# BSD License\n",
    "# https://gist.github.com/michiexile/5635273\n",
    "# SciPy function to compute the gap statistic for evaluating k-means clustering.\n",
    "# Gap statistic defined in\n",
    "# Tibshirani, Walther, Hastie:\n",
    "#  Estimating the number of clusters in a data set via the gap statistic\n",
    "#  J. R. Statist. Soc. B (2001) 63, Part 2, pp 411-423\n",
    "%run gap.py"
   ]
  },
  {
   "cell_type": "code",
   "execution_count": null,
   "metadata": {
    "collapsed": false
   },
   "outputs": [],
   "source": [
    "clust = gap(res_list, refs=None, nrefs=3, ks=range(1,11), )"
   ]
  },
  {
   "cell_type": "code",
   "execution_count": null,
   "metadata": {
    "collapsed": false
   },
   "outputs": [],
   "source": [
    "plt.plot(range(1,11), clust , marker='o')\n",
    "plt.xlabel('Number of clusters')\n",
    "plt.ylabel('Distortion')\n",
    "plt.tight_layout()\n",
    "#plt.savefig('./figures/elbow.png', dpi=300)\n",
    "plt.show()"
   ]
  },
  {
   "cell_type": "markdown",
   "metadata": {},
   "source": [
    "---"
   ]
  },
  {
   "cell_type": "markdown",
   "metadata": {
    "collapsed": true
   },
   "source": [
    "# Real (outer) world example\n",
    "\n",
    "\n",
    "#### [Gravitational Waves Detected 100 Years After Einstein's Prediction](https://www.ligo.caltech.edu/news/ligo20160211)\n",
    "\n",
    "- [LIGO Jupyter notebook](https://losc.ligo.org/s/events/GW150914/GW150914_tutorial.html)"
   ]
  },
  {
   "cell_type": "markdown",
   "metadata": {},
   "source": [
    "---"
   ]
  },
  {
   "cell_type": "markdown",
   "metadata": {},
   "source": [
    "# Resources\n",
    "\n",
    "#### Interactive platforms\n",
    "- IPython https://ipython.org/\n",
    "- Jupyter notebook http://jupyter.org/\n",
    "\n",
    "#### Documentation\n",
    "\n",
    "- NumPy http://docs.scipy.org/doc/numpy-dev/reference/\n",
    "- Pandas http://pandas.pydata.org/pandas-docs/stable/api.html\n",
    "- Matplotlib http://matplotlib.org/contents.html\n",
    "- Seaborn http://stanford.edu/~mwaskom/software/seaborn-dev/index.html\n",
    "- SciPy http://docs.scipy.org/doc/scipy-0.14.0/reference/index.html\n",
    "- Scikit-learn: Machine Learning in Python http://scikit-learn.org/stable/\n",
    "- StatsModels: Statistics in Python http://statsmodels.sourceforge.net/stable/\n",
    "\n",
    "#### Tutorials\n",
    "\n",
    "- Software Carpentry http://software-carpentry.org/lessons/\n",
    "- Data Carpentry for Biologists http://www.datacarpentry.org/semester-biology/materials/\n",
    "- Statistical Data Analysis in Python https://github.com/fonnesbeck/statistical-analysis-python-tutorial\n",
    "- And lots more..."
   ]
  },
  {
   "cell_type": "markdown",
   "metadata": {},
   "source": [
    "---\n",
    "\n",
    "---"
   ]
  }
 ],
 "metadata": {
  "kernelspec": {
   "display_name": "Python 3",
   "language": "python",
   "name": "python3"
  },
  "language_info": {
   "codemirror_mode": {
    "name": "ipython",
    "version": 3
   },
   "file_extension": ".py",
   "mimetype": "text/x-python",
   "name": "python",
   "nbconvert_exporter": "python",
   "pygments_lexer": "ipython3",
   "version": "3.4.3"
  }
 },
 "nbformat": 4,
 "nbformat_minor": 0
}
